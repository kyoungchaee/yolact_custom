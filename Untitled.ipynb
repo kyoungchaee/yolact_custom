{
 "cells": [
  {
   "cell_type": "code",
   "execution_count": 1,
   "id": "cd421cff",
   "metadata": {
    "ExecuteTime": {
     "end_time": "2021-04-09T10:16:29.476468Z",
     "start_time": "2021-04-09T10:16:29.411640Z"
    }
   },
   "outputs": [],
   "source": [
    "!cd external/DCNv2"
   ]
  },
  {
   "cell_type": "code",
   "execution_count": 2,
   "id": "dc49a74e",
   "metadata": {
    "ExecuteTime": {
     "end_time": "2021-04-09T10:16:38.521000Z",
     "start_time": "2021-04-09T10:16:38.359744Z"
    }
   },
   "outputs": [
    {
     "name": "stdout",
     "output_type": "stream",
     "text": [
      "total 197\n",
      "drwxr-xr-x 1 kyoungchae �뾾�쓬     0 Apr  9 19:16 .\n",
      "drwxr-xr-x 1 kyoungchae �뾾�쓬     0 Apr  1 20:42 ..\n",
      "drwxr-xr-x 1 kyoungchae �뾾�쓬     0 Mar 31 22:39 .git\n",
      "-rw-r--r-- 1 kyoungchae �뾾�쓬  1978 Mar 31 22:39 .gitignore\n",
      "drwxr-xr-x 1 kyoungchae �뾾�쓬     0 Apr  9 19:16 .ipynb_checkpoints\n",
      "-rw-r--r-- 1 kyoungchae �뾾�쓬  2990 Mar 31 22:39 CHANGELOG.md\n",
      "-rw-r--r-- 1 kyoungchae �뾾�쓬  1090 Mar 31 22:39 LICENSE\n",
      "-rw-r--r-- 1 kyoungchae �뾾�쓬 16444 Mar 31 22:39 README.md\n",
      "-rw-r--r-- 1 kyoungchae �뾾�쓬    72 Apr  9 19:16 Untitled.ipynb\n",
      "drwxr-xr-x 1 kyoungchae �뾾�쓬     0 Apr  1 20:40 __pycache__\n",
      "-rw-r--r-- 1 kyoungchae �뾾�쓬 17745 Mar 31 22:39 backbone.py\n",
      "drwxr-xr-x 1 kyoungchae �뾾�쓬     0 Apr  8 22:38 data\n",
      "-rw-r--r-- 1 kyoungchae �뾾�쓬   960 Mar 31 22:39 environment.yml\n",
      "-rw-r--r-- 1 kyoungchae �뾾�쓬 48022 Mar 31 22:39 eval.py\n",
      "drwxr-xr-x 1 kyoungchae �뾾�쓬     0 Mar 31 22:39 external\n",
      "drwxr-xr-x 1 kyoungchae �뾾�쓬     0 Apr  1 20:40 layers\n",
      "-rw-r--r-- 1 kyoungchae �뾾�쓬  1465 Mar 31 22:39 run_coco_eval.py\n",
      "drwxr-xr-x 1 kyoungchae �뾾�쓬     0 Mar 31 22:39 scripts\n",
      "-rw-r--r-- 1 kyoungchae �뾾�쓬 21986 Mar 31 22:39 train.py\n",
      "drwxr-xr-x 1 kyoungchae �뾾�쓬     0 Apr  1 20:40 utils\n",
      "drwxr-xr-x 1 kyoungchae �뾾�쓬     0 Mar 31 22:39 web\n",
      "drwxr-xr-x 1 kyoungchae �뾾�쓬     0 Apr  1 20:29 weights\n",
      "-rw-r--r-- 1 kyoungchae �뾾�쓬 32240 Mar 31 22:39 yolact.py\n"
     ]
    }
   ],
   "source": [
    "!ls -al"
   ]
  },
  {
   "cell_type": "code",
   "execution_count": 3,
   "id": "a0aecfd2",
   "metadata": {
    "ExecuteTime": {
     "end_time": "2021-04-09T10:17:06.747490Z",
     "start_time": "2021-04-09T10:17:06.691606Z"
    }
   },
   "outputs": [],
   "source": [
    "!cd external"
   ]
  },
  {
   "cell_type": "code",
   "execution_count": 4,
   "id": "286a3c0c",
   "metadata": {
    "ExecuteTime": {
     "end_time": "2021-04-09T10:17:10.113372Z",
     "start_time": "2021-04-09T10:17:09.963746Z"
    }
   },
   "outputs": [
    {
     "name": "stdout",
     "output_type": "stream",
     "text": [
      "total 197\n",
      "drwxr-xr-x 1 kyoungchae �뾾�쓬     0 Apr  9 19:16 .\n",
      "drwxr-xr-x 1 kyoungchae �뾾�쓬     0 Apr  1 20:42 ..\n",
      "drwxr-xr-x 1 kyoungchae �뾾�쓬     0 Mar 31 22:39 .git\n",
      "-rw-r--r-- 1 kyoungchae �뾾�쓬  1978 Mar 31 22:39 .gitignore\n",
      "drwxr-xr-x 1 kyoungchae �뾾�쓬     0 Apr  9 19:16 .ipynb_checkpoints\n",
      "-rw-r--r-- 1 kyoungchae �뾾�쓬  2990 Mar 31 22:39 CHANGELOG.md\n",
      "-rw-r--r-- 1 kyoungchae �뾾�쓬  1090 Mar 31 22:39 LICENSE\n",
      "-rw-r--r-- 1 kyoungchae �뾾�쓬 16444 Mar 31 22:39 README.md\n",
      "-rw-r--r-- 1 kyoungchae �뾾�쓬    72 Apr  9 19:16 Untitled.ipynb\n",
      "drwxr-xr-x 1 kyoungchae �뾾�쓬     0 Apr  1 20:40 __pycache__\n",
      "-rw-r--r-- 1 kyoungchae �뾾�쓬 17745 Mar 31 22:39 backbone.py\n",
      "drwxr-xr-x 1 kyoungchae �뾾�쓬     0 Apr  8 22:38 data\n",
      "-rw-r--r-- 1 kyoungchae �뾾�쓬   960 Mar 31 22:39 environment.yml\n",
      "-rw-r--r-- 1 kyoungchae �뾾�쓬 48022 Mar 31 22:39 eval.py\n",
      "drwxr-xr-x 1 kyoungchae �뾾�쓬     0 Mar 31 22:39 external\n",
      "drwxr-xr-x 1 kyoungchae �뾾�쓬     0 Apr  1 20:40 layers\n",
      "-rw-r--r-- 1 kyoungchae �뾾�쓬  1465 Mar 31 22:39 run_coco_eval.py\n",
      "drwxr-xr-x 1 kyoungchae �뾾�쓬     0 Mar 31 22:39 scripts\n",
      "-rw-r--r-- 1 kyoungchae �뾾�쓬 21986 Mar 31 22:39 train.py\n",
      "drwxr-xr-x 1 kyoungchae �뾾�쓬     0 Apr  1 20:40 utils\n",
      "drwxr-xr-x 1 kyoungchae �뾾�쓬     0 Mar 31 22:39 web\n",
      "drwxr-xr-x 1 kyoungchae �뾾�쓬     0 Apr  1 20:29 weights\n",
      "-rw-r--r-- 1 kyoungchae �뾾�쓬 32240 Mar 31 22:39 yolact.py\n"
     ]
    }
   ],
   "source": [
    "!ls -al"
   ]
  },
  {
   "cell_type": "code",
   "execution_count": 5,
   "id": "c5e5f0eb",
   "metadata": {
    "ExecuteTime": {
     "end_time": "2021-04-09T10:17:36.006093Z",
     "start_time": "2021-04-09T10:17:35.916333Z"
    }
   },
   "outputs": [
    {
     "name": "stderr",
     "output_type": "stream",
     "text": [
      "지정된 경로를 찾을 수 없습니다.\n"
     ]
    }
   ],
   "source": [
    "!cd .external"
   ]
  },
  {
   "cell_type": "code",
   "execution_count": 6,
   "id": "ab4d246d",
   "metadata": {
    "ExecuteTime": {
     "end_time": "2021-04-09T10:17:49.560144Z",
     "start_time": "2021-04-09T10:17:49.546153Z"
    }
   },
   "outputs": [],
   "source": [
    "import os"
   ]
  },
  {
   "cell_type": "code",
   "execution_count": 8,
   "id": "a69327c7",
   "metadata": {
    "ExecuteTime": {
     "end_time": "2021-04-09T10:18:28.576380Z",
     "start_time": "2021-04-09T10:18:28.569404Z"
    }
   },
   "outputs": [],
   "source": [
    "os.chdir('external')"
   ]
  },
  {
   "cell_type": "code",
   "execution_count": 9,
   "id": "d55995e9",
   "metadata": {
    "ExecuteTime": {
     "end_time": "2021-04-09T10:18:39.293055Z",
     "start_time": "2021-04-09T10:18:39.160751Z"
    }
   },
   "outputs": [
    {
     "name": "stdout",
     "output_type": "stream",
     "text": [
      "total 8\n",
      "drwxr-xr-x 1 kyoungchae �뾾�쓬 0 Mar 31 22:39 .\n",
      "drwxr-xr-x 1 kyoungchae �뾾�쓬 0 Apr  9 19:18 ..\n",
      "drwxr-xr-x 1 kyoungchae �뾾�쓬 0 Apr  9 19:01 DCNv2\n"
     ]
    }
   ],
   "source": [
    "!ls -al"
   ]
  },
  {
   "cell_type": "code",
   "execution_count": 10,
   "id": "5ac12a37",
   "metadata": {
    "ExecuteTime": {
     "end_time": "2021-04-09T10:18:47.591668Z",
     "start_time": "2021-04-09T10:18:47.576681Z"
    }
   },
   "outputs": [],
   "source": [
    "os.chdir('DCNv2')"
   ]
  },
  {
   "cell_type": "code",
   "execution_count": 11,
   "id": "99f839cb",
   "metadata": {
    "ExecuteTime": {
     "end_time": "2021-04-09T10:18:51.358530Z",
     "start_time": "2021-04-09T10:18:51.204942Z"
    }
   },
   "outputs": [
    {
     "name": "stdout",
     "output_type": "stream",
     "text": [
      "total 580\n",
      "drwxr-xr-x 1 kyoungchae �뾾�쓬      0 Apr  9 19:01 .\n",
      "drwxr-xr-x 1 kyoungchae �뾾�쓬      0 Mar 31 22:39 ..\n",
      "drwxr-xr-x 1 kyoungchae �뾾�쓬      0 Apr  9 19:01 DCNv2.egg-info\n",
      "-rw-r--r-- 1 kyoungchae �뾾�쓬   1548 Mar 31 22:39 LICENSE\n",
      "-rw-r--r-- 1 kyoungchae �뾾�쓬   2290 Mar 31 22:39 README.md\n",
      "-rw-r--r-- 1 kyoungchae �뾾�쓬      0 Mar 31 22:39 __init__.py\n",
      "drwxr-xr-x 1 kyoungchae �뾾�쓬      0 Apr  1 20:37 __pycache__\n",
      "-rwxr-xr-x 1 kyoungchae �뾾�쓬 543744 Apr  1 20:25 _ext.cp37-win_amd64.pyd\n",
      "drwxr-xr-x 1 kyoungchae �뾾�쓬      0 Apr  1 20:46 build\n",
      "-rwxr-xr-x 1 kyoungchae �뾾�쓬  12384 Mar 31 22:39 dcn_v2.py\n",
      "drwxr-xr-x 1 kyoungchae �뾾�쓬      0 Apr  1 20:46 dist\n",
      "-rwxr-xr-x 1 kyoungchae �뾾�쓬   2044 Mar 31 22:39 setup.py\n",
      "drwxr-xr-x 1 kyoungchae �뾾�쓬      0 Mar 31 22:39 src\n",
      "-rwxr-xr-x 1 kyoungchae �뾾�쓬   8776 Mar 31 22:39 test.py\n"
     ]
    }
   ],
   "source": [
    "!ls -al"
   ]
  },
  {
   "cell_type": "code",
   "execution_count": 18,
   "id": "41462396",
   "metadata": {
    "ExecuteTime": {
     "end_time": "2021-04-09T10:32:10.880585Z",
     "start_time": "2021-04-09T10:32:08.541794Z"
    }
   },
   "outputs": [
    {
     "name": "stdout",
     "output_type": "stream",
     "text": [
      "running build\n",
      "running build_ext\n",
      "running develop\n",
      "running egg_info\n",
      "writing DCNv2.egg-info\\PKG-INFO\n",
      "writing dependency_links to DCNv2.egg-info\\dependency_links.txt\n",
      "writing top-level names to DCNv2.egg-info\\top_level.txt\n",
      "reading manifest file 'DCNv2.egg-info\\SOURCES.txt'\n",
      "writing manifest file 'DCNv2.egg-info\\SOURCES.txt'\n",
      "running build_ext\n",
      "copying build\\lib.win-amd64-3.7\\_ext.cp37-win_amd64.pyd -> \n"
     ]
    },
    {
     "name": "stderr",
     "output_type": "stream",
     "text": [
      "C:\\Users\\kyoungchae\\Anaconda3\\envs\\yolact+\\lib\\site-packages\\torch\\utils\\cpp_extension.py:209: UserWarning: Error checking compiler version for cl: [WinError 2] 지정된 파일을 찾을 수 없습니다\n",
      "  warnings.warn('Error checking compiler version for {}: {}'.format(compiler, error))\n",
      "Error in atexit._run_exitfuncs:\n",
      "Traceback (most recent call last):\n",
      "  File \"C:\\Users\\kyoungchae\\Anaconda3\\envs\\yolact+\\lib\\site-packages\\colorama\\ansitowin32.py\", line 59, in closed\n",
      "    return stream.closed\n",
      "ValueError: underlying buffer has been detached\n"
     ]
    },
    {
     "name": "stdout",
     "output_type": "stream",
     "text": [
      "Creating c:\\users\\kyoungchae\\anaconda3\\envs\\yolact+\\lib\\site-packages\\DCNv2.egg-link (link to .)\n",
      "DCNv2 0.1 is already the active version in easy-install.pth\n",
      "\n",
      "Installed c:\\users\\kyoungchae\\onedrive - dongguk.edu\\jupyter_notebook\\yolact+\\yolact\\external\\dcnv2\n",
      "Processing dependencies for DCNv2==0.1\n",
      "Finished processing dependencies for DCNv2==0.1\n"
     ]
    }
   ],
   "source": [
    "!python setup.py build develop"
   ]
  },
  {
   "cell_type": "code",
   "execution_count": 13,
   "id": "190757b6",
   "metadata": {
    "ExecuteTime": {
     "end_time": "2021-04-09T10:26:13.555058Z",
     "start_time": "2021-04-09T10:26:13.539100Z"
    }
   },
   "outputs": [
    {
     "name": "stderr",
     "output_type": "stream",
     "text": [
      "UsageError: Line magic function `%numpy` not found.\n"
     ]
    }
   ],
   "source": [
    "%numpy --version"
   ]
  },
  {
   "cell_type": "code",
   "execution_count": 14,
   "id": "3a0eaee4",
   "metadata": {
    "ExecuteTime": {
     "end_time": "2021-04-09T10:26:24.910379Z",
     "start_time": "2021-04-09T10:26:24.831572Z"
    }
   },
   "outputs": [
    {
     "name": "stderr",
     "output_type": "stream",
     "text": [
      "'numpy'은(는) 내부 또는 외부 명령, 실행할 수 있는 프로그램, 또는\n",
      "배치 파일이 아닙니다.\n"
     ]
    }
   ],
   "source": [
    "!numpy --version"
   ]
  },
  {
   "cell_type": "code",
   "execution_count": 15,
   "id": "56c287a5",
   "metadata": {
    "ExecuteTime": {
     "end_time": "2021-04-09T10:26:32.551497Z",
     "start_time": "2021-04-09T10:26:32.420848Z"
    }
   },
   "outputs": [
    {
     "name": "stdout",
     "output_type": "stream",
     "text": [
      "nvcc: NVIDIA (R) Cuda compiler driver\n",
      "Copyright (c) 2005-2019 NVIDIA Corporation\n",
      "Built on Fri_Feb__8_19:08:26_Pacific_Standard_Time_2019\n",
      "Cuda compilation tools, release 10.1, V10.1.105\n"
     ]
    }
   ],
   "source": [
    "!nvcc --version"
   ]
  },
  {
   "cell_type": "code",
   "execution_count": 16,
   "id": "b5a13323",
   "metadata": {
    "ExecuteTime": {
     "end_time": "2021-04-09T10:26:39.095736Z",
     "start_time": "2021-04-09T10:26:39.028916Z"
    }
   },
   "outputs": [
    {
     "name": "stderr",
     "output_type": "stream",
     "text": [
      "'numpy'은(는) 내부 또는 외부 명령, 실행할 수 있는 프로그램, 또는\n",
      "배치 파일이 아닙니다.\n"
     ]
    }
   ],
   "source": [
    "!numpy --version"
   ]
  },
  {
   "cell_type": "code",
   "execution_count": 17,
   "id": "3ab959e1",
   "metadata": {
    "ExecuteTime": {
     "end_time": "2021-04-09T10:27:19.327742Z",
     "start_time": "2021-04-09T10:27:19.091376Z"
    }
   },
   "outputs": [
    {
     "name": "stdout",
     "output_type": "stream",
     "text": [
      "Python 3.7.10\n"
     ]
    }
   ],
   "source": [
    "!python --version"
   ]
  },
  {
   "cell_type": "code",
   "execution_count": null,
   "id": "712b031f",
   "metadata": {
    "ExecuteTime": {
     "start_time": "2021-04-09T10:35:15.511Z"
    }
   },
   "outputs": [],
   "source": [
    "!conda install python=3.8"
   ]
  },
  {
   "cell_type": "code",
   "execution_count": null,
   "id": "763a3162",
   "metadata": {},
   "outputs": [],
   "source": []
  }
 ],
 "metadata": {
  "kernelspec": {
   "display_name": "Python 3",
   "language": "python",
   "name": "python3"
  },
  "language_info": {
   "codemirror_mode": {
    "name": "ipython",
    "version": 3
   },
   "file_extension": ".py",
   "mimetype": "text/x-python",
   "name": "python",
   "nbconvert_exporter": "python",
   "pygments_lexer": "ipython3",
   "version": "3.7.10"
  },
  "toc": {
   "base_numbering": 1,
   "nav_menu": {},
   "number_sections": true,
   "sideBar": true,
   "skip_h1_title": false,
   "title_cell": "Table of Contents",
   "title_sidebar": "Contents",
   "toc_cell": false,
   "toc_position": {},
   "toc_section_display": true,
   "toc_window_display": false
  },
  "varInspector": {
   "cols": {
    "lenName": 16,
    "lenType": 16,
    "lenVar": 40
   },
   "kernels_config": {
    "python": {
     "delete_cmd_postfix": "",
     "delete_cmd_prefix": "del ",
     "library": "var_list.py",
     "varRefreshCmd": "print(var_dic_list())"
    },
    "r": {
     "delete_cmd_postfix": ") ",
     "delete_cmd_prefix": "rm(",
     "library": "var_list.r",
     "varRefreshCmd": "cat(var_dic_list()) "
    }
   },
   "types_to_exclude": [
    "module",
    "function",
    "builtin_function_or_method",
    "instance",
    "_Feature"
   ],
   "window_display": false
  }
 },
 "nbformat": 4,
 "nbformat_minor": 5
}
